{
 "cells": [
  {
   "cell_type": "markdown",
   "id": "f1793f5c",
   "metadata": {},
   "source": [
    "NFDRS Version 4.0 Master Class<br>\n",
    "Series 1<br>\n",
    "<hr>\n",
    "Introduction to the Growing Season Index for Live Fuel Moistures\n"
   ]
  },
  {
   "cell_type": "code",
   "execution_count": 43,
   "id": "3de0426f",
   "metadata": {},
   "outputs": [],
   "source": [
    "%matplotlib inline\n",
    "import pandas as pd\n",
    "import matplotlib.pyplot as plt"
   ]
  },
  {
   "cell_type": "code",
   "execution_count": 44,
   "id": "4c3e288a",
   "metadata": {},
   "outputs": [],
   "source": [
    "dat = pd.read_csv(\"./Data/353228.fw21\")"
   ]
  },
  {
   "cell_type": "code",
   "execution_count": 45,
   "id": "0de0d0fa",
   "metadata": {},
   "outputs": [
    {
     "data": {
      "text/html": [
       "<div>\n",
       "<style scoped>\n",
       "    .dataframe tbody tr th:only-of-type {\n",
       "        vertical-align: middle;\n",
       "    }\n",
       "\n",
       "    .dataframe tbody tr th {\n",
       "        vertical-align: top;\n",
       "    }\n",
       "\n",
       "    .dataframe thead th {\n",
       "        text-align: right;\n",
       "    }\n",
       "</style>\n",
       "<table border=\"1\" class=\"dataframe\">\n",
       "  <thead>\n",
       "    <tr style=\"text-align: right;\">\n",
       "      <th></th>\n",
       "      <th>DateTime</th>\n",
       "      <th>Temperature(F)</th>\n",
       "      <th>RelativeHumidity(%)</th>\n",
       "      <th>Precipitation(in)</th>\n",
       "      <th>WindSpeed(mph)</th>\n",
       "      <th>WindAzimuth(degrees)</th>\n",
       "      <th>SolarRadiation(W/m2)</th>\n",
       "      <th>SnowFlag</th>\n",
       "      <th>GustSpeed(mph)</th>\n",
       "      <th>GustAzimuth(degrees)</th>\n",
       "    </tr>\n",
       "  </thead>\n",
       "  <tbody>\n",
       "    <tr>\n",
       "      <th>0</th>\n",
       "      <td>1998-06-17T22:00:00Z</td>\n",
       "      <td>80.0</td>\n",
       "      <td>33.0</td>\n",
       "      <td>0.00</td>\n",
       "      <td>1.0</td>\n",
       "      <td>250.0</td>\n",
       "      <td>571.0</td>\n",
       "      <td>NaN</td>\n",
       "      <td>14.0</td>\n",
       "      <td>280.0</td>\n",
       "    </tr>\n",
       "    <tr>\n",
       "      <th>1</th>\n",
       "      <td>1998-06-17T23:00:00Z</td>\n",
       "      <td>72.0</td>\n",
       "      <td>36.0</td>\n",
       "      <td>0.00</td>\n",
       "      <td>7.0</td>\n",
       "      <td>336.0</td>\n",
       "      <td>359.0</td>\n",
       "      <td>NaN</td>\n",
       "      <td>16.0</td>\n",
       "      <td>1.0</td>\n",
       "    </tr>\n",
       "    <tr>\n",
       "      <th>2</th>\n",
       "      <td>1998-06-18T00:00:00Z</td>\n",
       "      <td>67.0</td>\n",
       "      <td>46.0</td>\n",
       "      <td>0.00</td>\n",
       "      <td>9.0</td>\n",
       "      <td>346.0</td>\n",
       "      <td>148.0</td>\n",
       "      <td>NaN</td>\n",
       "      <td>22.0</td>\n",
       "      <td>352.0</td>\n",
       "    </tr>\n",
       "    <tr>\n",
       "      <th>3</th>\n",
       "      <td>1998-06-18T01:00:00Z</td>\n",
       "      <td>63.0</td>\n",
       "      <td>55.0</td>\n",
       "      <td>0.00</td>\n",
       "      <td>14.0</td>\n",
       "      <td>353.0</td>\n",
       "      <td>37.0</td>\n",
       "      <td>NaN</td>\n",
       "      <td>23.0</td>\n",
       "      <td>335.0</td>\n",
       "    </tr>\n",
       "    <tr>\n",
       "      <th>4</th>\n",
       "      <td>1998-06-18T02:00:00Z</td>\n",
       "      <td>61.0</td>\n",
       "      <td>60.0</td>\n",
       "      <td>0.00</td>\n",
       "      <td>6.0</td>\n",
       "      <td>317.0</td>\n",
       "      <td>2.0</td>\n",
       "      <td>NaN</td>\n",
       "      <td>27.0</td>\n",
       "      <td>355.0</td>\n",
       "    </tr>\n",
       "    <tr>\n",
       "      <th>...</th>\n",
       "      <td>...</td>\n",
       "      <td>...</td>\n",
       "      <td>...</td>\n",
       "      <td>...</td>\n",
       "      <td>...</td>\n",
       "      <td>...</td>\n",
       "      <td>...</td>\n",
       "      <td>...</td>\n",
       "      <td>...</td>\n",
       "      <td>...</td>\n",
       "    </tr>\n",
       "    <tr>\n",
       "      <th>200035</th>\n",
       "      <td>2021-12-31T17:00:00Z</td>\n",
       "      <td>34.0</td>\n",
       "      <td>92.0</td>\n",
       "      <td>0.02</td>\n",
       "      <td>0.0</td>\n",
       "      <td>338.0</td>\n",
       "      <td>25.0</td>\n",
       "      <td>0.0</td>\n",
       "      <td>2.0</td>\n",
       "      <td>327.0</td>\n",
       "    </tr>\n",
       "    <tr>\n",
       "      <th>200036</th>\n",
       "      <td>2021-12-31T18:00:00Z</td>\n",
       "      <td>32.0</td>\n",
       "      <td>91.0</td>\n",
       "      <td>0.01</td>\n",
       "      <td>0.0</td>\n",
       "      <td>335.0</td>\n",
       "      <td>28.0</td>\n",
       "      <td>0.0</td>\n",
       "      <td>0.0</td>\n",
       "      <td>304.0</td>\n",
       "    </tr>\n",
       "    <tr>\n",
       "      <th>200037</th>\n",
       "      <td>2021-12-31T19:00:00Z</td>\n",
       "      <td>31.0</td>\n",
       "      <td>90.0</td>\n",
       "      <td>0.01</td>\n",
       "      <td>1.0</td>\n",
       "      <td>24.0</td>\n",
       "      <td>33.0</td>\n",
       "      <td>0.0</td>\n",
       "      <td>3.0</td>\n",
       "      <td>33.0</td>\n",
       "    </tr>\n",
       "    <tr>\n",
       "      <th>200038</th>\n",
       "      <td>2021-12-31T20:00:00Z</td>\n",
       "      <td>33.0</td>\n",
       "      <td>89.0</td>\n",
       "      <td>0.01</td>\n",
       "      <td>1.0</td>\n",
       "      <td>358.0</td>\n",
       "      <td>32.0</td>\n",
       "      <td>0.0</td>\n",
       "      <td>3.0</td>\n",
       "      <td>329.0</td>\n",
       "    </tr>\n",
       "    <tr>\n",
       "      <th>200039</th>\n",
       "      <td>2022-01-01T03:00:00Z</td>\n",
       "      <td>25.0</td>\n",
       "      <td>93.0</td>\n",
       "      <td>0.00</td>\n",
       "      <td>2.0</td>\n",
       "      <td>24.0</td>\n",
       "      <td>0.0</td>\n",
       "      <td>0.0</td>\n",
       "      <td>4.0</td>\n",
       "      <td>31.0</td>\n",
       "    </tr>\n",
       "  </tbody>\n",
       "</table>\n",
       "<p>200040 rows × 10 columns</p>\n",
       "</div>"
      ],
      "text/plain": [
       "                    DateTime   Temperature(F)   RelativeHumidity(%)  \\\n",
       "0       1998-06-17T22:00:00Z             80.0                  33.0   \n",
       "1       1998-06-17T23:00:00Z             72.0                  36.0   \n",
       "2       1998-06-18T00:00:00Z             67.0                  46.0   \n",
       "3       1998-06-18T01:00:00Z             63.0                  55.0   \n",
       "4       1998-06-18T02:00:00Z             61.0                  60.0   \n",
       "...                      ...              ...                   ...   \n",
       "200035  2021-12-31T17:00:00Z             34.0                  92.0   \n",
       "200036  2021-12-31T18:00:00Z             32.0                  91.0   \n",
       "200037  2021-12-31T19:00:00Z             31.0                  90.0   \n",
       "200038  2021-12-31T20:00:00Z             33.0                  89.0   \n",
       "200039  2022-01-01T03:00:00Z             25.0                  93.0   \n",
       "\n",
       "         Precipitation(in)   WindSpeed(mph)   WindAzimuth(degrees)  \\\n",
       "0                     0.00              1.0                  250.0   \n",
       "1                     0.00              7.0                  336.0   \n",
       "2                     0.00              9.0                  346.0   \n",
       "3                     0.00             14.0                  353.0   \n",
       "4                     0.00              6.0                  317.0   \n",
       "...                    ...              ...                    ...   \n",
       "200035                0.02              0.0                  338.0   \n",
       "200036                0.01              0.0                  335.0   \n",
       "200037                0.01              1.0                   24.0   \n",
       "200038                0.01              1.0                  358.0   \n",
       "200039                0.00              2.0                   24.0   \n",
       "\n",
       "         SolarRadiation(W/m2)   SnowFlag   GustSpeed(mph)  \\\n",
       "0                       571.0        NaN             14.0   \n",
       "1                       359.0        NaN             16.0   \n",
       "2                       148.0        NaN             22.0   \n",
       "3                        37.0        NaN             23.0   \n",
       "4                         2.0        NaN             27.0   \n",
       "...                       ...        ...              ...   \n",
       "200035                   25.0        0.0              2.0   \n",
       "200036                   28.0        0.0              0.0   \n",
       "200037                   33.0        0.0              3.0   \n",
       "200038                   32.0        0.0              3.0   \n",
       "200039                    0.0        0.0              4.0   \n",
       "\n",
       "         GustAzimuth(degrees)  \n",
       "0                       280.0  \n",
       "1                         1.0  \n",
       "2                       352.0  \n",
       "3                       335.0  \n",
       "4                       355.0  \n",
       "...                       ...  \n",
       "200035                  327.0  \n",
       "200036                  304.0  \n",
       "200037                   33.0  \n",
       "200038                  329.0  \n",
       "200039                   31.0  \n",
       "\n",
       "[200040 rows x 10 columns]"
      ]
     },
     "execution_count": 45,
     "metadata": {},
     "output_type": "execute_result"
    }
   ],
   "source": [
    "dat"
   ]
  },
  {
   "cell_type": "code",
   "execution_count": 46,
   "id": "7c885b2d",
   "metadata": {},
   "outputs": [],
   "source": [
    "dat.rename(columns=lambda x: x.strip(), inplace=True)"
   ]
  },
  {
   "cell_type": "code",
   "execution_count": 47,
   "id": "68fbb336",
   "metadata": {},
   "outputs": [],
   "source": [
    "dat['DateTime']=pd.to_datetime(dat['DateTime'], format='%Y-%m-%dT%H:%M:%SZ')"
   ]
  },
  {
   "cell_type": "code",
   "execution_count": 48,
   "id": "75e240bb",
   "metadata": {},
   "outputs": [],
   "source": [
    "#dat = dat.set_index('DateTime')"
   ]
  },
  {
   "cell_type": "code",
   "execution_count": 49,
   "id": "33efc203",
   "metadata": {},
   "outputs": [
    {
     "data": {
      "text/plain": [
       "<AxesSubplot:>"
      ]
     },
     "execution_count": 49,
     "metadata": {},
     "output_type": "execute_result"
    },
    {
     "data": {
      "image/png": "[encoded data removed]",
      "text/plain": [
       "<Figure size 432x288 with 1 Axes>"
      ]
     },
     "metadata": {
      "needs_background": "light"
     },
     "output_type": "display_data"
    }
   ],
   "source": [
    "dat['Temperature(F)'].plot()"
   ]
  },
  {
   "cell_type": "code",
   "execution_count": 50,
   "id": "f0faf077",
   "metadata": {},
   "outputs": [
    {
     "data": {
      "text/plain": [
       "<AxesSubplot:xlabel='DateTime'>"
      ]
     },
     "execution_count": 50,
     "metadata": {},
     "output_type": "execute_result"
    },
    {
     "data": {
      "image/png": "[encoded data removed]",
      "text/plain": [
       "<Figure size 432x288 with 1 Axes>"
      ]
     },
     "metadata": {
      "needs_background": "light"
     },
     "output_type": "display_data"
    }
   ],
   "source": [
    "f,ax = plt.subplots()\n",
    "dat['Temperature(F)'].groupby(dat.DateTime.dt.dayofyear).min().plot(ax=ax)\n",
    "dat['Temperature(F)'].groupby(dat.DateTime.dt.dayofyear).mean().plot(ax=ax)\n",
    "dat['Temperature(F)'].groupby(dat.DateTime.dt.dayofyear).max().plot(ax=ax)"
   ]
  },
  {
   "cell_type": "code",
   "execution_count": null,
   "id": "e29188b6",
   "metadata": {},
   "outputs": [],
   "source": []
  }
 ],
 "metadata": {
  "kernelspec": {
   "display_name": "Python 3 (ipykernel)",
   "language": "python",
   "name": "python3"
  },
  "language_info": {
   "codemirror_mode": {
    "name": "ipython",
    "version": 3
   },
   "file_extension": ".py",
   "mimetype": "text/x-python",
   "name": "python",
   "nbconvert_exporter": "python",
   "pygments_lexer": "ipython3",
   "version": "3.9.7"
  }
 },
 "nbformat": 4,
 "nbformat_minor": 5
}
