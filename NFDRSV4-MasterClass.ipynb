{
 "cells": [
  {
   "cell_type": "markdown",
   "id": "4308cd04",
   "metadata": {},
   "source": [
    "<h2>NFDRS Version 4.0 Master Class</h2><br>\n",
    "Series 1, 18 Jan 2022<br>\n",
    "<hr>\n",
    "Introduction to the Growing Season Index for Live Fuel Moistures\n",
    "\n"
   ]
  },
  {
   "cell_type": "code",
   "execution_count": 1,
   "id": "150863ca",
   "metadata": {},
   "outputs": [],
   "source": [
    "%matplotlib inline\n",
    "import pandas as pd\n",
    "import matplotlib.pyplot as plt\n",
    "from math import *\n",
    "import warnings\n",
    "warnings.filterwarnings('ignore')"
   ]
  },
  {
   "cell_type": "markdown",
   "id": "c8e69bc0",
   "metadata": {},
   "source": [
    "Step 1: Read the FW21 data file from FireFamily+, strip spaces from the column headings and format the date as a Pandas DateTime data type.  Note: This is a complete, HOURLY data file."
   ]
  },
  {
   "cell_type": "code",
   "execution_count": 2,
   "id": "c35deb6f",
   "metadata": {},
   "outputs": [
    {
     "data": {
      "text/html": [
       "<div>\n",
       "<style scoped>\n",
       "    .dataframe tbody tr th:only-of-type {\n",
       "        vertical-align: middle;\n",
       "    }\n",
       "\n",
       "    .dataframe tbody tr th {\n",
       "        vertical-align: top;\n",
       "    }\n",
       "\n",
       "    .dataframe thead th {\n",
       "        text-align: right;\n",
       "    }\n",
       "</style>\n",
       "<table border=\"1\" class=\"dataframe\">\n",
       "  <thead>\n",
       "    <tr style=\"text-align: right;\">\n",
       "      <th></th>\n",
       "      <th>DateTime</th>\n",
       "      <th>Temperature(F)</th>\n",
       "      <th>RelativeHumidity(%)</th>\n",
       "      <th>Precipitation(in)</th>\n",
       "      <th>WindSpeed(mph)</th>\n",
       "      <th>WindAzimuth(degrees)</th>\n",
       "      <th>SolarRadiation(W/m2)</th>\n",
       "      <th>SnowFlag</th>\n",
       "      <th>GustSpeed(mph)</th>\n",
       "      <th>GustAzimuth(degrees)</th>\n",
       "    </tr>\n",
       "  </thead>\n",
       "  <tbody>\n",
       "    <tr>\n",
       "      <th>0</th>\n",
       "      <td>1998-06-17 22:00:00+00:00</td>\n",
       "      <td>80.0</td>\n",
       "      <td>33.0</td>\n",
       "      <td>0.0</td>\n",
       "      <td>1.0</td>\n",
       "      <td>250.0</td>\n",
       "      <td>571.0</td>\n",
       "      <td>NaN</td>\n",
       "      <td>14.0</td>\n",
       "      <td>280.0</td>\n",
       "    </tr>\n",
       "    <tr>\n",
       "      <th>1</th>\n",
       "      <td>1998-06-17 23:00:00+00:00</td>\n",
       "      <td>72.0</td>\n",
       "      <td>36.0</td>\n",
       "      <td>0.0</td>\n",
       "      <td>7.0</td>\n",
       "      <td>336.0</td>\n",
       "      <td>359.0</td>\n",
       "      <td>NaN</td>\n",
       "      <td>16.0</td>\n",
       "      <td>1.0</td>\n",
       "    </tr>\n",
       "    <tr>\n",
       "      <th>2</th>\n",
       "      <td>1998-06-18 00:00:00+00:00</td>\n",
       "      <td>67.0</td>\n",
       "      <td>46.0</td>\n",
       "      <td>0.0</td>\n",
       "      <td>9.0</td>\n",
       "      <td>346.0</td>\n",
       "      <td>148.0</td>\n",
       "      <td>NaN</td>\n",
       "      <td>22.0</td>\n",
       "      <td>352.0</td>\n",
       "    </tr>\n",
       "    <tr>\n",
       "      <th>3</th>\n",
       "      <td>1998-06-18 01:00:00+00:00</td>\n",
       "      <td>63.0</td>\n",
       "      <td>55.0</td>\n",
       "      <td>0.0</td>\n",
       "      <td>14.0</td>\n",
       "      <td>353.0</td>\n",
       "      <td>37.0</td>\n",
       "      <td>NaN</td>\n",
       "      <td>23.0</td>\n",
       "      <td>335.0</td>\n",
       "    </tr>\n",
       "    <tr>\n",
       "      <th>4</th>\n",
       "      <td>1998-06-18 02:00:00+00:00</td>\n",
       "      <td>61.0</td>\n",
       "      <td>60.0</td>\n",
       "      <td>0.0</td>\n",
       "      <td>6.0</td>\n",
       "      <td>317.0</td>\n",
       "      <td>2.0</td>\n",
       "      <td>NaN</td>\n",
       "      <td>27.0</td>\n",
       "      <td>355.0</td>\n",
       "    </tr>\n",
       "  </tbody>\n",
       "</table>\n",
       "</div>"
      ],
      "text/plain": [
       "                   DateTime  Temperature(F)  RelativeHumidity(%)  \\\n",
       "0 1998-06-17 22:00:00+00:00            80.0                 33.0   \n",
       "1 1998-06-17 23:00:00+00:00            72.0                 36.0   \n",
       "2 1998-06-18 00:00:00+00:00            67.0                 46.0   \n",
       "3 1998-06-18 01:00:00+00:00            63.0                 55.0   \n",
       "4 1998-06-18 02:00:00+00:00            61.0                 60.0   \n",
       "\n",
       "   Precipitation(in)  WindSpeed(mph)  WindAzimuth(degrees)  \\\n",
       "0                0.0             1.0                 250.0   \n",
       "1                0.0             7.0                 336.0   \n",
       "2                0.0             9.0                 346.0   \n",
       "3                0.0            14.0                 353.0   \n",
       "4                0.0             6.0                 317.0   \n",
       "\n",
       "   SolarRadiation(W/m2)  SnowFlag  GustSpeed(mph)  GustAzimuth(degrees)  \n",
       "0                 571.0       NaN            14.0                 280.0  \n",
       "1                 359.0       NaN            16.0                   1.0  \n",
       "2                 148.0       NaN            22.0                 352.0  \n",
       "3                  37.0       NaN            23.0                 335.0  \n",
       "4                   2.0       NaN            27.0                 355.0  "
      ]
     },
     "execution_count": 2,
     "metadata": {},
     "output_type": "execute_result"
    }
   ],
   "source": [
    "fwx353228 = pd.read_csv(\"./Data/353228.fw21\")\n",
    "fwx353228.rename(columns=lambda x: x.strip(), inplace=True)\n",
    "fwx353228['DateTime']=pd.to_datetime(fwx353228['DateTime'])\n",
    "fwx353228.head()\n",
    "#fwx353228"
   ]
  },
  {
   "cell_type": "code",
   "execution_count": null,
   "id": "2ac151b8",
   "metadata": {},
   "outputs": [],
   "source": [
    "Tmin = pd.DataFrame({\"Tmin\": fwx353228_hourly['Temperature(F)'].resample('D').min(fwx353228.DataTime)}) "
   ]
  },
  {
   "cell_type": "markdown",
   "id": "f4d4f118",
   "metadata": {},
   "source": [
    "Step 2: EXPLORE - Let's make a plot the max, mean and min daily temperature"
   ]
  },
  {
   "cell_type": "code",
   "execution_count": null,
   "id": "81cc5753",
   "metadata": {},
   "outputs": [],
   "source": [
    "print(fwx353228.DateTime.min())\n",
    "print(fwx353228.DateTime.max())"
   ]
  },
  {
   "cell_type": "code",
   "execution_count": null,
   "id": "c8a8460a",
   "metadata": {},
   "outputs": [],
   "source": [
    "f,ax = plt.subplots()\n",
    "fwx353228['Temperature(F)'].groupby(fwx353228.DateTime.dt.dayofyear).min().plot(ax=ax,color='#2c7bb6')\n",
    "fwx353228['Temperature(F)'].groupby(fwx353228.DateTime.dt.dayofyear).mean().plot(ax=ax,color='grey')\n",
    "fwx353228['Temperature(F)'].groupby(fwx353228.DateTime.dt.dayofyear).max().plot(ax=ax,color='#d7191c')\n",
    "ax.set_xlabel(\"Day of Year\")\n",
    "ax.set_ylabel(\"Temperature(F)\")\n",
    "ax.set_title(\"Evans RAWS (353228) (1998-2021)\")\n",
    "plt.grid()"
   ]
  },
  {
   "cell_type": "markdown",
   "id": "de047350",
   "metadata": {},
   "source": [
    "Note about colors:  Many standard color palettes are hard for many people to see. I like this website that has good, colorblind friendly palettes.  You can steal these colors and use directly anywhere in Python: https://colorbrewer2.org/#type=diverging&scheme=RdYlBu&n=11"
   ]
  },
  {
   "cell_type": "code",
   "execution_count": null,
   "id": "e9edce66",
   "metadata": {},
   "outputs": [],
   "source": [
    "# You can use this line to limit the data including the data frame.  \n",
    "# This line will make sure we don't include any data from 2022.\n",
    "fwx353228 = fwx353228[(fwx353228['DateTime'] <= '2021-12-31')]"
   ]
  },
  {
   "cell_type": "markdown",
   "id": "97f70014",
   "metadata": {},
   "source": [
    "Step 3: Let's calculate Photoperiod for our dataset...."
   ]
  },
  {
   "cell_type": "code",
   "execution_count": null,
   "id": "6d2d2f6d",
   "metadata": {},
   "outputs": [],
   "source": [
    "# This function will calculate Photoperiod from Latitude and Day of Year\n",
    "\n",
    "RADPERDAY = 0.017214\n",
    "RADPERDEG = 0.01745329\n",
    "MINDECL = -0.4092797\n",
    "SECPERRAD = 13750.9871\n",
    "DAYSOFF = 10.25\n",
    "\n",
    "#Inputs: lat = Latitude in Degrees, yday is the day of the year.\n",
    "#Returns: Daylength in seconds\n",
    "\n",
    "def CalcDayl(lat,yday):\n",
    "        # Daylength function from MT-CLIM */\n",
    "        lat = lat * RADPERDEG\n",
    "        if lat > 1.5707:\n",
    "            lat = 1.5707\n",
    "        if lat < -1.5707:\n",
    "            lat = -1.5707\n",
    "        coslat = cos(lat)\n",
    "        sinlat = sin(lat)\n",
    "\n",
    "        #* calculate cos and sin of declination */\n",
    "        decl = MINDECL * cos((yday + DAYSOFF) * RADPERDAY)\n",
    "        cosdecl = cos(decl)\n",
    "        sindecl = sin(decl)\n",
    "        cosegeom = coslat * cosdecl\n",
    "        sinegeom = sinlat * sindecl\n",
    "        coshss = -(sinegeom) / cosegeom\n",
    "        if coshss < -1.0:\n",
    "            coshss = -1.0  # 24-hr daylight */\n",
    "        if coshss > 1.0:\n",
    "            coshss = 1.0    # 0-hr daylight */\n",
    "        hss = acos(coshss)                # hour angle at sunset (radians) */\n",
    "        #* daylength (seconds) */\n",
    "        return 2.0 * hss * SECPERRAD"
   ]
  },
  {
   "cell_type": "code",
   "execution_count": null,
   "id": "3693554e",
   "metadata": {},
   "outputs": [],
   "source": [
    "# Test the CalcDayl function\n",
    "CalcDayl(42.6,240) / 3600"
   ]
  },
  {
   "cell_type": "code",
   "execution_count": null,
   "id": "dea1c8d4",
   "metadata": {},
   "outputs": [],
   "source": [
    "# GSI Inputs are:\n",
    "# Minimum Temperature (deg C)\n",
    "# Vapor Pressure Deficit (Pascal)\n",
    "# Daylength (Seconds)\n",
    "# Running Total Precipitation (inches)"
   ]
  },
  {
   "cell_type": "code",
   "execution_count": null,
   "id": "21ad248f",
   "metadata": {},
   "outputs": [],
   "source": [
    "# Defaults for GSI are:\n",
    "# Tmin: -2 to 5\n",
    "# VPD: 900 to 4100\n",
    "# Dayl: 36000 to 39600\n",
    "#\n"
   ]
  },
  {
   "cell_type": "code",
   "execution_count": null,
   "id": "3beeb4c6",
   "metadata": {},
   "outputs": [],
   "source": [
    "# Compute and store the day of the year for use in calculating Daylength\n",
    "fwx353228['JDay'] = fwx353228.DateTime.dt.dayofyear"
   ]
  },
  {
   "cell_type": "code",
   "execution_count": null,
   "id": "4bd28761",
   "metadata": {},
   "outputs": [],
   "source": [
    "# Loop through the dataframe and calcuate Daylength for each row\n",
    "Lat = 42.6                               # Station Latitude in decimal degrees\n",
    "Dayl = []                                # Create an empty list of data\n",
    "for index, row in fwx353228.iterrows():  # Loop through the DataFrame.  Each interation pulls a 'row'\n",
    "    jday = int(row.JDay)                 # Make sure to correct the data type\n",
    "    Dayl.append(CalcDayl(Lat,jday))      # Calc Daylength and append to our list\n",
    "fwx353228['Dayl'] = Dayl                 # Insert the list as a new column in the DataFrame"
   ]
  },
  {
   "cell_type": "code",
   "execution_count": null,
   "id": "b7ec57af",
   "metadata": {},
   "outputs": [],
   "source": [
    "# Make a simple plot of Daylength. It doesn't change from year to year.\n",
    "ax = fwx353228['Dayl'].groupby(fwx353228.DateTime.dt.dayofyear).mean().plot(color='black')\n",
    "ax.set_xlabel(\"Day of Year\")\n",
    "ax.set_ylabel(\"Daylength (Seconds)\")\n",
    "plt.grid()"
   ]
  },
  {
   "cell_type": "markdown",
   "id": "1d386b2b",
   "metadata": {},
   "source": [
    "Step 4: Now let's compute VPDMax.  We need two functions to help us. "
   ]
  },
  {
   "cell_type": "code",
   "execution_count": null,
   "id": "83d8419a",
   "metadata": {},
   "outputs": [],
   "source": [
    "# Function to calculate the Saturation Vapor Pressure for a given temperature.\n",
    "# Note: Function converts internally from F to C.\n",
    "def CalcVP(tempF):\n",
    "    tmpC =  (tempF - 32.0) / 1.8\n",
    "    vp = 610.7 * exp((17.38 * tmpC)/(239 + tmpC))\n",
    "    return vp\n",
    "\n",
    "# Calculate the VPD from RH and temperature\n",
    "def CalcVPD(RH, TempF):\n",
    "    vp = CalcVP(TempF)\n",
    "    vpd = vp - (RH / 100) * vp\n",
    "    if(vpd < 0.0):\n",
    "        vpd = 0.0;\n",
    "    return vpd"
   ]
  },
  {
   "cell_type": "code",
   "execution_count": null,
   "id": "88e89818",
   "metadata": {},
   "outputs": [],
   "source": [
    "CalcVPD(50,75)"
   ]
  },
  {
   "cell_type": "code",
   "execution_count": null,
   "id": "264a7e75",
   "metadata": {},
   "outputs": [],
   "source": [
    "# Use of resample requires us to set the DateTime as the Index\n",
    "# This is a great reference for resample: \n",
    "# https://towardsdatascience.com/using-the-pandas-resample-function-a231144194c4\n",
    "fwx353228_hourly = fwx353228.set_index('DateTime')\n",
    "fwx353228_daily['DateTime'] = fwx353228_daily.index\n",
    "Tmin = pd.DataFrame({\"Tmin\": fwx353228_hourly['Temperature(F)'].resample('D').min()})  \n",
    "Tmax = pd.DataFrame({\"Tmax\": fwx353228_hourly['Temperature(F)'].resample('D').max()})\n",
    "Tavg = pd.DataFrame({\"Tavg\": fwx353228_hourly['Temperature(F)'].resample('D').mean()})\n",
    "Dayl = pd.DataFrame({\"Dayl\": fwx353228_hourly['Dayl'].resample('D').mean()})\n",
    "RHmin = pd.DataFrame({\"RHmin\": fwx353228_hourly['RelativeHumidity(%)'].resample('D').min()})\n",
    "RHmax = pd.DataFrame({\"RHmax\": fwx353228_hourly['RelativeHumidity(%)'].resample('D').max()})\n",
    "RHavg = pd.DataFrame({\"RHavg\": fwx353228_hourly['RelativeHumidity(%)'].resample('D').mean()})"
   ]
  },
  {
   "cell_type": "code",
   "execution_count": null,
   "id": "581c7a81",
   "metadata": {},
   "outputs": [],
   "source": [
    "fwx353228_daily = pd.concat([Tmax,Tmin,RHmax,RHmin,Dayl],axis=1)"
   ]
  },
  {
   "cell_type": "code",
   "execution_count": null,
   "id": "464fd64b",
   "metadata": {},
   "outputs": [],
   "source": [
    "fwx353228_daily = fwx353228_daily.dropna()"
   ]
  },
  {
   "cell_type": "code",
   "execution_count": null,
   "id": "029f4538",
   "metadata": {},
   "outputs": [],
   "source": [
    "# Loop through DataFrame and calculate VPD, just like before\n",
    "VPD = []  # Empty Array\n",
    "for index, row in fwx353228_daily.iterrows():\n",
    "    temp = float(row.Tmax)\n",
    "    rh = float(row.RHmin)\n",
    "    VPD.append(CalcVPD(rh,temp) )\n",
    "fwx353228_daily['VPDMax'] = VPD"
   ]
  },
  {
   "cell_type": "code",
   "execution_count": null,
   "id": "09fe90b3",
   "metadata": {},
   "outputs": [],
   "source": [
    "ax = fwx353228_daily.VPDMax.plot()\n",
    "ax.set_xlabel(\"Date/Time\")\n",
    "ax.set_ylabel(\"Max Vapor Pressure Deficit (Pa)\")\n",
    "plt.grid()"
   ]
  },
  {
   "cell_type": "code",
   "execution_count": null,
   "id": "fcdd0e4c",
   "metadata": {},
   "outputs": [],
   "source": [
    "f,ax = plt.subplots()\n",
    "fwx353228_daily.VPDMax.groupby(fwx353228_daily.DateTime.dt.dayofyear).mean().plot(ax=ax,color='black')\n",
    "fwx353228_daily.VPDMax.groupby(fwx353228_daily.DateTime.dt.dayofyear).min().plot(ax=ax,color='blue')\n",
    "fwx353228_daily.VPDMax.groupby(fwx353228_daily.DateTime.dt.dayofyear).max().plot(ax=ax,color='red')\n",
    "ax.set_xlabel(\"Day of Year\")\n",
    "ax.set_ylabel(\"Max Vapor Pressure Deficit (Pa)\")\n",
    "plt.grid()"
   ]
  },
  {
   "cell_type": "markdown",
   "id": "d947e733",
   "metadata": {},
   "source": [
    "Step 5: Finally, let's calculate one of the Indicator or Ramp functions for one of the variables."
   ]
  },
  {
   "cell_type": "code",
   "execution_count": null,
   "id": "015b4a75",
   "metadata": {},
   "outputs": [],
   "source": [
    "fwx353228_daily['TminC'] =  (fwx353228_daily.Tmin - 32.0) * 5.0 / 9.0; # Convert Tmin from Fahrenheit to celcuius"
   ]
  },
  {
   "cell_type": "code",
   "execution_count": null,
   "id": "77f926d5",
   "metadata": {},
   "outputs": [],
   "source": [
    "# Here is an easy way to look for crazy values.  Let's look at the days in the dataset that have TempF greater than 120F\n",
    "fwx353228_daily[fwx353228_daily['Tmax'] > 120]"
   ]
  },
  {
   "cell_type": "markdown",
   "id": "0a659a68",
   "metadata": {},
   "source": [
    "Here is a good article on ways to drop data from the DataFrame\n",
    "https://www.datasciencemadesimple.com/drop-delete-rows-conditions-python-pandas/"
   ]
  },
  {
   "cell_type": "code",
   "execution_count": null,
   "id": "3a2a182a",
   "metadata": {},
   "outputs": [],
   "source": [
    "# GSI indicator/ramp function\n",
    "def Ind(Var,Low,Up):\n",
    "    # Make sure all the input variables are numbers\n",
    "    Var = float(Var)\n",
    "    Low = float(Low)\n",
    "    Up = float(Up)\n",
    "    if(Up == Low):  # Upper (Up) and Lower (Low) can't be the same\n",
    "        return 0\n",
    "    if( Var < Low):  # If the variables is less than the lower limit, return 0\n",
    "        return 0\n",
    "    elif(Var > Up):  # If the variables is greater than the upper limit, return 1\n",
    "        return 1\n",
    "    else:            # If the variables is between the lower and upper limits, return the proportion\n",
    "        return (Var - Low) / (Up - Low)"
   ]
  },
  {
   "cell_type": "code",
   "execution_count": null,
   "id": "9272d052",
   "metadata": {},
   "outputs": [],
   "source": [
    "# Test the GSI Indicator / Ramp Function\n",
    "Ind(-1.9,-2,5)"
   ]
  },
  {
   "cell_type": "code",
   "execution_count": null,
   "id": "81c43676",
   "metadata": {},
   "outputs": [],
   "source": [
    "# Test the indicator function over a range of temperature\n",
    "t = [-3,-2,-1,0,1,2,3,4,5,6,7]\n",
    "ind = []\n",
    "for v in t:\n",
    "    ind.append(Ind(v,-2,5))"
   ]
  },
  {
   "cell_type": "code",
   "execution_count": null,
   "id": "5228ab71",
   "metadata": {},
   "outputs": [],
   "source": [
    "f,ax = plt.subplots()\n",
    "ax.plot(t,ind)\n",
    "ax.set_xlabel(\"Minimum Temperature (deg C)\")\n",
    "ax.set_ylabel(\"Minimum Temperature Indicator (0 to 1)\")\n",
    "plt.grid()"
   ]
  },
  {
   "cell_type": "code",
   "execution_count": null,
   "id": "3abda363",
   "metadata": {},
   "outputs": [],
   "source": [
    "TminInd = []  # Empty Array\n",
    "TminLow = -2        # Lower limit for Minimum Temperature (-2degC by default)\n",
    "TminUp = 5          # Upper limit for Minimum Temperature (5degC by default)\n",
    "for index, row in fwx353228_daily.iterrows():\n",
    "    temp = float(row.TminC)\n",
    "    TminInd.append(Ind(temp,TminLow,TminUp))\n",
    "fwx353228_daily['TminInd'] = TminInd"
   ]
  },
  {
   "cell_type": "code",
   "execution_count": null,
   "id": "50a9282c",
   "metadata": {},
   "outputs": [],
   "source": [
    "fwx353228_daily['TminInd'] = fwx353228_daily.apply(lambda row: Ind(row['TminC'],TminLow,TminUp),axis=1)"
   ]
  },
  {
   "cell_type": "code",
   "execution_count": null,
   "id": "6e687f31",
   "metadata": {},
   "outputs": [],
   "source": [
    "f,ax = plt.subplots()\n",
    "fwx353228_daily.TminInd.groupby(fwx353228_daily.DateTime.dt.dayofyear).min().plot(color='black')"
   ]
  },
  {
   "cell_type": "code",
   "execution_count": null,
   "id": "3f4118b2",
   "metadata": {},
   "outputs": [],
   "source": []
  }
 ],
 "metadata": {
  "kernelspec": {
   "display_name": "Python 3 (ipykernel)",
   "language": "python",
   "name": "python3"
  },
  "language_info": {
   "codemirror_mode": {
    "name": "ipython",
    "version": 3
   },
   "file_extension": ".py",
   "mimetype": "text/x-python",
   "name": "python",
   "nbconvert_exporter": "python",
   "pygments_lexer": "ipython3",
   "version": "3.9.7"
  }
 },
 "nbformat": 4,
 "nbformat_minor": 5
}
