{
 "cells": [
  {
   "cell_type": "markdown",
   "id": "fc929c63",
   "metadata": {},
   "source": [
    "<h2>NFDRS Version 4.0 Master Class</h2><br>\n",
    "Series 1, 18 Jan 2022<br>\n",
    "Series 2, 22 Feb 2022<br>\n",
    "Series 3, 29 Mar 2022<br>\n",
    "Series 4, 03 Nov 2022<br>\n",
    "Series 5, 01 Dec 2022<br>\n",
    "<hr>\n",
    "<h2>Introduction to the Growing Season Index for Live Fuel Moistures</h2>\n",
    "\n"
   ]
  },
  {
   "cell_type": "code",
   "execution_count": 12,
   "id": "4a5227cb",
   "metadata": {},
   "outputs": [],
   "source": [
    "%matplotlib inline\n",
    "import pandas as pd\n",
    "import matplotlib.pyplot as plt\n",
    "from math import *\n",
    "import warnings\n",
    "warnings.filterwarnings('ignore')"
   ]
  },
  {
   "cell_type": "code",
   "execution_count": null,
   "id": "5e5ace7e",
   "metadata": {},
   "outputs": [],
   "source": [
    "# Source: https://colorbrewer2.org/#type=diverging&scheme=Spectral&n=5\n",
    "col1 = '#d7191c'\n",
    "col2 = '#fdae61'\n",
    "col3 = '#ffffbf'\n",
    "col4 = '#abdda4'\n",
    "col5 = '#2b83ba'"
   ]
  },
  {
   "cell_type": "markdown",
   "id": "4ae42b69",
   "metadata": {},
   "source": [
    "Step 1: Read the FW21 data file from FireFamily+, strip spaces from the column headings and format the date as a Pandas DateTime data type.  Note: This is a complete, HOURLY data file."
   ]
  },
  {
   "cell_type": "code",
   "execution_count": null,
   "id": "746178cc",
   "metadata": {},
   "outputs": [],
   "source": [
    "fwx = pd.read_csv(\"./Data/241513.fw21\")\n",
    "fwx.rename(columns=lambda x: x.strip(), inplace=True)  # This makes sure there are no random spaces in column names\n",
    "fwx['DateTime']=pd.to_datetime(fwx['DateTime'])\n",
    "fwx.head()\n",
    "#fwx"
   ]
  },
  {
   "cell_type": "code",
   "execution_count": null,
   "id": "bc7dee3e",
   "metadata": {},
   "outputs": [],
   "source": [
    "fwx.columns"
   ]
  },
  {
   "cell_type": "code",
   "execution_count": null,
   "id": "671948c0",
   "metadata": {},
   "outputs": [],
   "source": [
    "# Let's add some QA/QC here\n",
    "print(\"Min\", fwx['Temperature(F)'].min())\n",
    "print(\"Max\", fwx['Temperature(F)'].max())\n",
    "print(\"Mean\",fwx['Temperature(F)'].mean())\n",
    "print(\"90th Percentile\",fwx['Temperature(F)'].quantile(0.9))\n",
    "#fwx = fwx[fwx['Temperature(F)'] <= 110]"
   ]
  },
  {
   "cell_type": "code",
   "execution_count": null,
   "id": "37731e46",
   "metadata": {},
   "outputs": [],
   "source": [
    "# Let's add some QA/QC here\n",
    "var = 'RelativeHumidity(%)'\n",
    "print(\"Min\", fwx[var].min())\n",
    "print(\"Max\", fwx[var].max())\n",
    "print(\"Mean\",fwx[var].mean())\n",
    "print(\"90th Percentile\",fwx[var].quantile(0.9))\n",
    "print(\"10th Percentile\",fwx[var].quantile(0.1))\n",
    "#fwx = fwx[fwx['Temperature(F)'] <= 110]"
   ]
  },
  {
   "cell_type": "markdown",
   "id": "43185f6b",
   "metadata": {},
   "source": [
    "Step 2: EXPLORE - Let's make a plot the max, mean and min daily temperature"
   ]
  },
  {
   "cell_type": "code",
   "execution_count": null,
   "id": "eacaba4a",
   "metadata": {},
   "outputs": [],
   "source": [
    "print(fwx.DateTime.min())\n",
    "print(fwx.DateTime.max())"
   ]
  },
  {
   "cell_type": "code",
   "execution_count": null,
   "id": "190a2c9a",
   "metadata": {},
   "outputs": [],
   "source": [
    "f,ax = plt.subplots()\n",
    "fwx['RelativeHumidity(%)'].groupby(fwx.DateTime.dt.dayofyear).min().plot(ax=ax,color=col5)\n",
    "fwx['RelativeHumidity(%)'].groupby(fwx.DateTime.dt.dayofyear).mean().plot(ax=ax,color='grey')\n",
    "fwx['RelativeHumidity(%)'].groupby(fwx.DateTime.dt.dayofyear).max().plot(ax=ax,color=col1)\n",
    "ax.set_xlabel(\"Day of Year\")\n",
    "ax.set_ylabel(\"Relative Humidity (%)\")\n",
    "ax.set_title(\"Blue Mountain RAWS (241513) (2001-2020)\")\n",
    "plt.grid()"
   ]
  },
  {
   "cell_type": "code",
   "execution_count": null,
   "id": "e286908d",
   "metadata": {},
   "outputs": [],
   "source": [
    "cmap = ['#a50026','#d73027','#f46d43','#fdae61','#fee090','#ffffbf','#e0f3f8','#abd9e9','#74add1','#4575b4','#313695']"
   ]
  },
  {
   "cell_type": "code",
   "execution_count": null,
   "id": "a742084f",
   "metadata": {},
   "outputs": [],
   "source": [
    "f,ax = plt.subplots()\n",
    "fwx['RelativeHumidity(%)'].groupby(fwx.DateTime.dt.dayofyear).min().plot(ax=ax,color=cmap[0])\n",
    "fwx['RelativeHumidity(%)'].groupby(fwx.DateTime.dt.dayofyear).mean().plot(ax=ax,color='grey')\n",
    "fwx['RelativeHumidity(%)'].groupby(fwx.DateTime.dt.dayofyear).max().plot(ax=ax,color=cmap[1])\n",
    "ax.set_xlabel(\"Day of Year\")\n",
    "ax.set_ylabel(\"Relative Humidity (%)\")\n",
    "ax.set_title(\"Blue Mountain RAWS (241513) (2001-2020)\")\n",
    "plt.grid()"
   ]
  },
  {
   "cell_type": "code",
   "execution_count": null,
   "id": "20ecef53",
   "metadata": {},
   "outputs": [],
   "source": [
    "\n",
    "\n",
    "fwx['Temperature(F)'].groupby(fwx.DateTime.dt.dayofyear).mean().plot(color=cmap[0])\n",
    "\n"
   ]
  },
  {
   "cell_type": "code",
   "execution_count": null,
   "id": "22d6bf73",
   "metadata": {},
   "outputs": [],
   "source": [
    "f,ax = plt.subplots()\n",
    "fwx['Temperature(F)'].groupby(fwx.DateTime.dt.dayofyear).min().plot(ax=ax,color=col5)\n",
    "fwx['Temperature(F)'].groupby(fwx.DateTime.dt.dayofyear).mean().plot(ax=ax,color='grey')\n",
    "fwx['Temperature(F)'].groupby(fwx.DateTime.dt.dayofyear).max().plot(ax=ax,color=col1)\n",
    "ax.set_xlabel(\"Day of Year\")\n",
    "ax.set_ylabel(\"Temperature(F)\")\n",
    "ax.set_title(\"Blue Mountain RAWS (241513) (2001-2020)\")\n",
    "plt.grid()"
   ]
  },
  {
   "cell_type": "code",
   "execution_count": null,
   "id": "774bf27a",
   "metadata": {},
   "outputs": [],
   "source": [
    "ax = fwx['Temperature(F)'].plot.hist(density=True,color=col1)\n",
    "fwx['Temperature(F)'].plot.density(color=col2,ax=ax)\n",
    "plt.title('Density plot for Hourly Temperature')\n",
    "plt.grid()\n",
    "plt.show()"
   ]
  },
  {
   "cell_type": "code",
   "execution_count": null,
   "id": "b9ce91a2",
   "metadata": {},
   "outputs": [],
   "source": [
    "fwx[fwx['Temperature(F)'] > 104]"
   ]
  },
  {
   "cell_type": "markdown",
   "id": "912b9640",
   "metadata": {},
   "source": [
    "Note about colors:  Many standard color palettes are hard for many people to see. I like this website that has good, colorblind friendly palettes.  You can steal these colors and use directly anywhere in Python: https://colorbrewer2.org/#type=diverging&scheme=RdYlBu&n=11"
   ]
  },
  {
   "cell_type": "code",
   "execution_count": null,
   "id": "a28064cf",
   "metadata": {},
   "outputs": [],
   "source": [
    "# You can use this line to limit the data including the data frame.  \n",
    "# This line will make sure we don't include any data from 2022.\n",
    "fwx = fwx[(fwx['DateTime'] <= '2020-12-31')]"
   ]
  },
  {
   "cell_type": "markdown",
   "id": "da770dff",
   "metadata": {},
   "source": [
    "Step 3: Let's calculate Photoperiod for our dataset...."
   ]
  },
  {
   "cell_type": "code",
   "execution_count": null,
   "id": "2193e859",
   "metadata": {},
   "outputs": [],
   "source": [
    "# This function will calculate Photoperiod from Latitude and Day of Year\n",
    "\n",
    "RADPERDAY = 0.017214\n",
    "RADPERDEG = 0.01745329\n",
    "MINDECL = -0.4092797\n",
    "SECPERRAD = 13750.9871\n",
    "DAYSOFF = 10.25\n",
    "\n",
    "#Inputs: lat = Latitude in Degrees, yday is the day of the year.\n",
    "#Returns: Daylength in seconds\n",
    "\n",
    "def CalcDayl(lat,yday):\n",
    "        # Daylength function from MT-CLIM */\n",
    "        lat = lat * RADPERDEG\n",
    "        if lat > 1.5707:\n",
    "            lat = 1.5707\n",
    "        if lat < -1.5707:\n",
    "            lat = -1.5707\n",
    "        coslat = cos(lat)\n",
    "        sinlat = sin(lat)\n",
    "\n",
    "        #* calculate cos and sin of declination */\n",
    "        decl = MINDECL * cos((yday + DAYSOFF) * RADPERDAY)\n",
    "        cosdecl = cos(decl)\n",
    "        sindecl = sin(decl)\n",
    "        cosegeom = coslat * cosdecl\n",
    "        sinegeom = sinlat * sindecl\n",
    "        coshss = -(sinegeom) / cosegeom\n",
    "        if coshss < -1.0:\n",
    "            coshss = -1.0  # 24-hr daylight */\n",
    "        if coshss > 1.0:\n",
    "            coshss = 1.0    # 0-hr daylight */\n",
    "        hss = acos(coshss)                # hour angle at sunset (radians) */\n",
    "        #* daylength (seconds) */\n",
    "        return 2.0 * hss * SECPERRAD"
   ]
  },
  {
   "cell_type": "code",
   "execution_count": null,
   "id": "fb8e9523",
   "metadata": {},
   "outputs": [],
   "source": [
    "# Test the CalcDayl function\n",
    "CalcDayl(42.6,240) / 3600"
   ]
  },
  {
   "cell_type": "code",
   "execution_count": null,
   "id": "cc228142",
   "metadata": {},
   "outputs": [],
   "source": [
    "# GSI Inputs are:\n",
    "# Minimum Temperature (deg C)\n",
    "# Vapor Pressure Deficit (Pascal)\n",
    "# Daylength (Seconds)\n",
    "# Running Total Precipitation (inches)"
   ]
  },
  {
   "cell_type": "code",
   "execution_count": null,
   "id": "42e2a6e3",
   "metadata": {},
   "outputs": [],
   "source": [
    "# Defaults for GSI are:\n",
    "# Tmin: -2 to 5\n",
    "# VPD: 900 to 4100\n",
    "# Dayl: 36000 to 39600\n",
    "#\n"
   ]
  },
  {
   "cell_type": "code",
   "execution_count": null,
   "id": "0adafe58",
   "metadata": {},
   "outputs": [],
   "source": [
    "# Compute and store the day of the year for use in calculating Daylength\n",
    "fwx['JDay'] = fwx.DateTime.dt.dayofyear"
   ]
  },
  {
   "cell_type": "code",
   "execution_count": null,
   "id": "ec75d49f",
   "metadata": {},
   "outputs": [],
   "source": [
    "# Loop through the dataframe and calcuate Daylength for each row\n",
    "Lat = 46.82                               # Station Latitude in decimal degrees\n",
    "Dayl = []                                # Create an empty list of data\n",
    "for index, row in fwx.iterrows():  # Loop through the DataFrame.  Each interation pulls a 'row'\n",
    "    jday = int(row.JDay)                 # Make sure to correct the data type\n",
    "    Dayl.append(CalcDayl(Lat,jday))      # Calc Daylength and append to our list\n",
    "fwx['Dayl'] = Dayl                 # Insert the list as a new column in the DataFrame"
   ]
  },
  {
   "cell_type": "code",
   "execution_count": null,
   "id": "9abb9830",
   "metadata": {},
   "outputs": [],
   "source": [
    "fwx['Dayl'] "
   ]
  },
  {
   "cell_type": "code",
   "execution_count": null,
   "id": "41268ccc",
   "metadata": {},
   "outputs": [],
   "source": [
    "# Make a simple plot of Daylength. It doesn't change from year to year.\n",
    "ax = fwx['Dayl'].groupby(fwx.DateTime.dt.dayofyear).mean().plot(color=col1)\n",
    "ax.set_xlabel(\"Day of Year\")\n",
    "ax.set_ylabel(\"Daylength (Seconds)\")\n",
    "plt.grid()"
   ]
  },
  {
   "cell_type": "markdown",
   "id": "9fb1cdd3",
   "metadata": {},
   "source": [
    "Step 4: Now let's compute VPDMax.  We need two functions to help us. "
   ]
  },
  {
   "cell_type": "code",
   "execution_count": null,
   "id": "0584b322",
   "metadata": {},
   "outputs": [],
   "source": [
    "# Function to calculate the Saturation Vapor Pressure for a given temperature.\n",
    "# Note: Function converts internally from F to C.\n",
    "def CalcVP(tempF):\n",
    "    tmpC =  (tempF - 32.0) / 1.8\n",
    "    vp = 610.7 * exp((17.38 * tmpC)/(239 + tmpC))\n",
    "    return vp\n",
    "\n",
    "# Calculate the VPD from RH and temperature\n",
    "def CalcVPD(RH, TempF):\n",
    "    vp = CalcVP(TempF)\n",
    "    vpd = vp - (RH / 100) * vp\n",
    "    if(vpd < 0.0):\n",
    "        vpd = 0.0;\n",
    "    return vpd"
   ]
  },
  {
   "cell_type": "code",
   "execution_count": null,
   "id": "83090e3f",
   "metadata": {},
   "outputs": [],
   "source": [
    "CalcVPD(50,75)"
   ]
  },
  {
   "cell_type": "markdown",
   "id": "f3c4ca2d",
   "metadata": {},
   "source": [
    "Step 5: Resample the data from hourly to daily "
   ]
  },
  {
   "cell_type": "code",
   "execution_count": null,
   "id": "4a43977b",
   "metadata": {},
   "outputs": [],
   "source": [
    "# Use of resample requires us to set the DateTime as the Index\n",
    "# This is a great reference for resample: \n",
    "# https://towardsdatascience.com/using-the-pandas-resample-function-a231144194c4\n",
    "fwx_hourly = fwx.set_index('DateTime')\n",
    "\n",
    "Tmin = pd.DataFrame({\"Tmin\": fwx_hourly['Temperature(F)'].resample('D').min()})  \n",
    "Tmax = pd.DataFrame({\"Tmax\": fwx_hourly['Temperature(F)'].resample('D').max()})\n",
    "Tavg = pd.DataFrame({\"Tavg\": fwx_hourly['Temperature(F)'].resample('D').mean()})\n",
    "Dayl = pd.DataFrame({\"Dayl\": fwx_hourly['Dayl'].resample('D').mean()})\n",
    "Prcp = pd.DataFrame({\"Prcp\": fwx_hourly['Precipitation(in)'].resample('D').sum()})\n",
    "RHmin = pd.DataFrame({\"RHmin\": fwx_hourly['RelativeHumidity(%)'].resample('D').min()})\n",
    "RHmax = pd.DataFrame({\"RHmax\": fwx_hourly['RelativeHumidity(%)'].resample('D').max()})\n",
    "RHavg = pd.DataFrame({\"RHavg\": fwx_hourly['RelativeHumidity(%)'].resample('D').mean()})"
   ]
  },
  {
   "cell_type": "code",
   "execution_count": null,
   "id": "819a9976",
   "metadata": {},
   "outputs": [],
   "source": [
    "Prcp.plot()"
   ]
  },
  {
   "cell_type": "code",
   "execution_count": null,
   "id": "18866211",
   "metadata": {},
   "outputs": [],
   "source": [
    "# Create daily DataFrame\n",
    "fwx_daily = pd.concat([Tmax,Tmin,RHmax,RHmin,Dayl,Prcp],axis=1)\n",
    "fwx_daily['DateTime'] = fwx_daily.index\n",
    "fwx_daily = fwx_daily.dropna()"
   ]
  },
  {
   "cell_type": "code",
   "execution_count": null,
   "id": "ed680134",
   "metadata": {},
   "outputs": [],
   "source": [
    "# Drop the goofy Prcp values from the data frame\n",
    "fwx_daily = fwx_daily[fwx_daily['Prcp'] <= 2]"
   ]
  },
  {
   "cell_type": "code",
   "execution_count": null,
   "id": "eb7de625",
   "metadata": {},
   "outputs": [],
   "source": [
    "fwx_daily.Prcp.plot()"
   ]
  },
  {
   "cell_type": "code",
   "execution_count": null,
   "id": "a63bfb38",
   "metadata": {},
   "outputs": [],
   "source": [
    "ax = fwx_daily['Tmax'].plot()\n",
    "plt.grid()\n",
    "ax.set_title(\"Blue Mountain RAWS (241513)\")\n",
    "ax.set_ylabel(\"Maximum Temperature (F)\")"
   ]
  },
  {
   "cell_type": "code",
   "execution_count": null,
   "id": "5308fb32",
   "metadata": {},
   "outputs": [],
   "source": [
    "# Loop through DataFrame and calculate VPD, just like before\n",
    "VPD = []  # Empty Array\n",
    "for index, row in fwx_daily.iterrows():\n",
    "    temp = float(row.Tmax)\n",
    "    rh = float(row.RHmin)\n",
    "    VPD.append(CalcVPD(rh,temp) )\n",
    "fwx_daily['VPDMax'] = VPD"
   ]
  },
  {
   "cell_type": "code",
   "execution_count": null,
   "id": "dd6542d2",
   "metadata": {},
   "outputs": [],
   "source": [
    "ax = fwx_daily.VPDMax.plot()\n",
    "ax.set_xlabel(\"Date/Time\")\n",
    "ax.set_ylabel(\"Max Vapor Pressure Deficit (Pa)\")\n",
    "plt.grid()"
   ]
  },
  {
   "cell_type": "code",
   "execution_count": null,
   "id": "db1b7d92",
   "metadata": {},
   "outputs": [],
   "source": [
    "f,ax = plt.subplots()\n",
    "fwx_daily.VPDMax.groupby(fwx_daily.DateTime.dt.dayofyear).mean().plot(ax=ax,color='grey')\n",
    "fwx_daily.VPDMax.groupby(fwx_daily.DateTime.dt.dayofyear).min().plot(ax=ax,color=col5)\n",
    "fwx_daily.VPDMax.groupby(fwx_daily.DateTime.dt.dayofyear).max().plot(ax=ax,color=col1)\n",
    "ax.set_xlabel(\"Day of Year\")\n",
    "ax.set_ylabel(\"Max Vapor Pressure Deficit (Pa)\")\n",
    "plt.grid()"
   ]
  },
  {
   "cell_type": "markdown",
   "id": "b548cd6c",
   "metadata": {},
   "source": [
    "Step 5: Finally, let's calculate one of the Indicator or Ramp functions for one of the variables."
   ]
  },
  {
   "cell_type": "code",
   "execution_count": null,
   "id": "360406be",
   "metadata": {},
   "outputs": [],
   "source": [
    "fwx_daily['TminC'] =  (fwx_daily.Tmin - 32.0) * 5.0 / 9.0; # Convert Tmin from Fahrenheit to celcuius"
   ]
  },
  {
   "cell_type": "code",
   "execution_count": null,
   "id": "57043f30",
   "metadata": {},
   "outputs": [],
   "source": [
    "fwx_daily.columns"
   ]
  },
  {
   "cell_type": "code",
   "execution_count": null,
   "id": "be08f1de",
   "metadata": {},
   "outputs": [],
   "source": [
    "# This line will make sure we don't include any data from 2022.\n",
    "fwx_daily = fwx_daily[(fwx_daily['DateTime'] >= '2005-01-01')]"
   ]
  },
  {
   "cell_type": "code",
   "execution_count": null,
   "id": "0c0fb34b",
   "metadata": {},
   "outputs": [],
   "source": [
    "# Here is an easy way to look for crazy values.  Let's look at the days in the dataset that have TempF greater than 120F\n",
    "#fwx_daily[fwx_daily['Tmax'] > 120]"
   ]
  },
  {
   "cell_type": "markdown",
   "id": "90ed9715",
   "metadata": {},
   "source": [
    "Here is a good article on ways to drop data from the DataFrame\n",
    "https://www.datasciencemadesimple.com/drop-delete-rows-conditions-python-pandas/"
   ]
  },
  {
   "cell_type": "code",
   "execution_count": null,
   "id": "d8f3af74",
   "metadata": {},
   "outputs": [],
   "source": [
    "# GSI indicator/ramp function\n",
    "def Ind(Var,Low,Up):\n",
    "    # Make sure all the input variables are numbers\n",
    "    Var = float(Var)\n",
    "    Low = float(Low)\n",
    "    Up = float(Up)\n",
    "    if(Up == Low):  # Upper (Up) and Lower (Low) can't be the same\n",
    "        return 0\n",
    "    if( Var < Low):  # If the variables is less than the lower limit, return 0\n",
    "        return 0\n",
    "    elif(Var > Up):  # If the variables is greater than the upper limit, return 1\n",
    "        return 1\n",
    "    else:            # If the variables is between the lower and upper limits, return the proportion\n",
    "        return (Var - Low) / (Up - Low)"
   ]
  },
  {
   "cell_type": "code",
   "execution_count": null,
   "id": "a706ed5e",
   "metadata": {},
   "outputs": [],
   "source": [
    "# Test the GSI Indicator / Ramp Function\n",
    "Ind(1.5,-2,5)"
   ]
  },
  {
   "cell_type": "code",
   "execution_count": null,
   "id": "9cd4912b",
   "metadata": {},
   "outputs": [],
   "source": [
    "# Test the indicator function over a range of temperature\n",
    "t = [-3,-2,-1,0,1,2,3,4,5,6,7]\n",
    "ind = []\n",
    "for v in t:\n",
    "    ind.append(Ind(v,-2,5))"
   ]
  },
  {
   "cell_type": "code",
   "execution_count": null,
   "id": "44a7c720",
   "metadata": {},
   "outputs": [],
   "source": [
    "f,ax = plt.subplots()\n",
    "ax.plot(t,ind)\n",
    "ax.set_xlabel(\"Minimum Temperature (deg C)\")\n",
    "ax.set_ylabel(\"Minimum Temperature Indicator (0 to 1)\")\n",
    "plt.grid()"
   ]
  },
  {
   "cell_type": "code",
   "execution_count": null,
   "id": "93c051a0",
   "metadata": {},
   "outputs": [],
   "source": [
    "TminInd = []  # Empty Array\n",
    "TminLow = -2        # Lower limit for Minimum Temperature (-2degC by default)\n",
    "TminUp = 5          # Upper limit for Minimum Temperature (5degC by default)\n",
    "for index, row in fwx_daily.iterrows():\n",
    "    temp = float(row.TminC)\n",
    "    TminInd.append(Ind(temp,TminLow,TminUp))\n",
    "fwx_daily['TminInd'] = TminInd"
   ]
  },
  {
   "cell_type": "code",
   "execution_count": null,
   "id": "7d83a8ec",
   "metadata": {},
   "outputs": [],
   "source": [
    "# The 'Pythonic' way of doing the above\n",
    "TminLow = -2        # Lower limit for Minimum Temperature (-2degC by default)\n",
    "TminUp = 5          # Upper limit for Minimum Temperature (5degC by default)\n",
    "fwx_daily['TminInd'] = fwx_daily.apply(lambda row: Ind(row['TminC'],TminLow,TminUp),axis=1)"
   ]
  },
  {
   "cell_type": "code",
   "execution_count": null,
   "id": "5ba7e968",
   "metadata": {},
   "outputs": [],
   "source": [
    "f,ax = plt.subplots()\n",
    "fwx_daily.TminInd.groupby(fwx_daily.DateTime.dt.dayofyear).mean().plot(color='grey')\n",
    "fwx_daily.TminInd.groupby(fwx_daily.DateTime.dt.dayofyear).min().plot(color=col5)\n",
    "fwx_daily.TminInd.groupby(fwx_daily.DateTime.dt.dayofyear).max().plot(color=col1)\n",
    "plt.grid()\n",
    "ax.set_xlabel(\"Day of Year\")\n",
    "ax.set_ylabel(\"Minimum Temperature Indicator (0 to 1)\")\n",
    "ax.set_title(\"Blue Mountain RAWS (241513) (2001-2020)\")"
   ]
  },
  {
   "cell_type": "code",
   "execution_count": null,
   "id": "743c0df7",
   "metadata": {},
   "outputs": [],
   "source": [
    "# The 'Pythonic' way of doing the above\n",
    "DaylLow = 36000\n",
    "DaylUp = 39600\n",
    "fwx_daily['DaylInd'] = fwx_daily.apply(lambda row: Ind(row['Dayl'],DaylLow,DaylUp),axis=1)"
   ]
  },
  {
   "cell_type": "code",
   "execution_count": null,
   "id": "07e7b5cc",
   "metadata": {},
   "outputs": [],
   "source": [
    "f,ax = plt.subplots()\n",
    "fwx_daily.DaylInd.groupby(fwx_daily.DateTime.dt.dayofyear).mean().plot(color='grey')\n",
    "fwx_daily.DaylInd.groupby(fwx_daily.DateTime.dt.dayofyear).min().plot(color=col5)\n",
    "fwx_daily.DaylInd.groupby(fwx_daily.DateTime.dt.dayofyear).max().plot(color=col1)\n",
    "plt.grid()\n",
    "ax.set_xlabel(\"Day of Year\")\n",
    "ax.set_ylabel(\"Dayl Indicator (0 to 1)\")\n",
    "ax.set_title(\"Blue Mountain RAWS (241513) (2001-2020)\")"
   ]
  },
  {
   "cell_type": "code",
   "execution_count": null,
   "id": "01c7d8c9",
   "metadata": {},
   "outputs": [],
   "source": [
    "# The 'Pythonic' way of doing the above\n",
    "VPDLow = 991\n",
    "VPDUp = 5546\n",
    "fwx_daily['VPDInd'] = fwx_daily.apply(lambda row: 1- Ind(row['VPDMax'],VPDLow,VPDUp),axis=1)"
   ]
  },
  {
   "cell_type": "code",
   "execution_count": null,
   "id": "035ac3f2",
   "metadata": {},
   "outputs": [],
   "source": [
    "f,ax = plt.subplots()\n",
    "fwx_daily.VPDInd.groupby(fwx_daily.DateTime.dt.dayofyear).mean().plot(color='grey')\n",
    "fwx_daily.VPDInd.groupby(fwx_daily.DateTime.dt.dayofyear).min().plot(color=col5)\n",
    "fwx_daily.VPDInd.groupby(fwx_daily.DateTime.dt.dayofyear).max().plot(color=col1)\n",
    "plt.grid()\n",
    "ax.set_xlabel(\"Day of Year\")\n",
    "ax.set_ylabel(\"VPD Indicator (0 to 1)\")\n",
    "ax.set_title(\"Blue Mountain RAWS (241513) (2001-2020)\")"
   ]
  },
  {
   "cell_type": "code",
   "execution_count": null,
   "id": "ed072fe1",
   "metadata": {},
   "outputs": [],
   "source": [
    "fwx_daily.columns"
   ]
  },
  {
   "cell_type": "markdown",
   "id": "da050e91",
   "metadata": {},
   "source": [
    "iGSI = iTmin * iVPD * iDayl"
   ]
  },
  {
   "cell_type": "code",
   "execution_count": null,
   "id": "abdfda1b",
   "metadata": {},
   "outputs": [],
   "source": [
    "fwx_daily['iGSI'] = fwx_daily['TminInd'] * fwx_daily['VPDInd'] * fwx_daily['DaylInd']"
   ]
  },
  {
   "cell_type": "code",
   "execution_count": null,
   "id": "016468ba",
   "metadata": {},
   "outputs": [],
   "source": [
    "fwx_daily['GSI'] = fwx_daily['iGSI'].rolling(28).mean()\n",
    "fwx_daily['GSI60'] = fwx_daily['iGSI'].rolling(60).mean()"
   ]
  },
  {
   "cell_type": "code",
   "execution_count": null,
   "id": "03b31631",
   "metadata": {},
   "outputs": [],
   "source": [
    "f,ax = plt.subplots()\n",
    "fwx_daily.GSI.groupby(fwx_daily.DateTime.dt.dayofyear).mean().plot(color=col1)\n",
    "fwx_daily.GSI60.groupby(fwx_daily.DateTime.dt.dayofyear).mean().plot(color=col5)\n",
    "\n",
    "plt.grid()\n",
    "ax.set_xlabel(\"Day of Year\")\n",
    "ax.set_ylabel(\"Growing Season Index (21 day smoother) (0 to 1)\")\n",
    "ax.set_title(\"Blue Mountain RAWS (241513) (2001-2020)\")"
   ]
  },
  {
   "cell_type": "code",
   "execution_count": null,
   "id": "21c82c5f",
   "metadata": {},
   "outputs": [],
   "source": [
    "f,ax = plt.subplots()\n",
    "fwx_daily.GSI.groupby(fwx_daily.DateTime.dt.dayofyear).mean().plot(color='grey')\n",
    "fwx_daily.GSI.groupby(fwx_daily.DateTime.dt.dayofyear).min().plot(color=col5)\n",
    "fwx_daily.GSI.groupby(fwx_daily.DateTime.dt.dayofyear).max().plot(color=col1)\n",
    "plt.grid()\n",
    "ax.set_xlabel(\"Day of Year\")\n",
    "ax.set_ylabel(\"Growing Season Index (21 day smoother) (0 to 1)\")\n",
    "ax.set_title(\"Blue Mountain RAWS (241513) (2001-2020)\")"
   ]
  },
  {
   "cell_type": "code",
   "execution_count": null,
   "id": "54beb5a5",
   "metadata": {},
   "outputs": [],
   "source": [
    "#GSI_Rescaled = Daily GSI / Historical Maximum GSI"
   ]
  },
  {
   "cell_type": "code",
   "execution_count": null,
   "id": "78b2d49d",
   "metadata": {},
   "outputs": [],
   "source": [
    "fwx_daily['GSI_RS'] = fwx_daily['GSI'] / fwx_daily['GSI'].quantile(0.999)"
   ]
  },
  {
   "cell_type": "code",
   "execution_count": null,
   "id": "b686e247",
   "metadata": {},
   "outputs": [],
   "source": [
    "f,ax = plt.subplots()\n",
    "fwx_daily.GSI_RS.groupby(fwx_daily.DateTime.dt.dayofyear).mean().plot(color='grey')\n",
    "fwx_daily.GSI_RS.groupby(fwx_daily.DateTime.dt.dayofyear).min().plot(color=col5)\n",
    "fwx_daily.GSI_RS.groupby(fwx_daily.DateTime.dt.dayofyear).max().plot(color=col1)\n",
    "plt.grid()\n",
    "ax.set_xlabel(\"Day of Year\")\n",
    "ax.set_ylabel(\"Rescaled Growing Season Index (21 day smoother) (0 to 1)\")\n",
    "ax.set_title(\"Blue Mountain RAWS (241513) (2001-2020)\")"
   ]
  },
  {
   "cell_type": "code",
   "execution_count": null,
   "id": "a2fa170d",
   "metadata": {},
   "outputs": [],
   "source": [
    "GUThresh = 0.5\n",
    "LFMMax = 200\n",
    "LFMMin = 60\n",
    "\n",
    "m = (LFMMax - LFMMin) / (1 - GUThresh)\n",
    "b = LFMMax - m\n",
    "\n",
    "LFMWood = []\n",
    "for index, row in fwx_daily.iterrows():\n",
    "    # If equal to or above the Green-up Threshold, scale between min and max\n",
    "    if(row.GSI_RS >= GUThresh):\n",
    "        LW = m*row.GSI_RS + b\n",
    "    # Below the Green-up Threshold, set the value to minimum LFM\n",
    "    else:\n",
    "        LW = LFMMin\n",
    "    LFMWood.append(LW)\n",
    "fwx_daily['WFM'] = LFMWood"
   ]
  },
  {
   "cell_type": "code",
   "execution_count": null,
   "id": "708b5bcb",
   "metadata": {},
   "outputs": [],
   "source": [
    "m,b"
   ]
  },
  {
   "cell_type": "code",
   "execution_count": null,
   "id": "bd81da94",
   "metadata": {},
   "outputs": [],
   "source": [
    "fwx_daily['WFM'].plot()"
   ]
  },
  {
   "cell_type": "code",
   "execution_count": null,
   "id": "9cce24fd",
   "metadata": {},
   "outputs": [],
   "source": [
    "fwx_daily.VPDMax.quantile([0.5,0.99])"
   ]
  },
  {
   "cell_type": "code",
   "execution_count": null,
   "id": "95c25249",
   "metadata": {},
   "outputs": [],
   "source": [
    "f,ax = plt.subplots()\n",
    "fwx_daily.WFM.groupby(fwx_daily.DateTime.dt.dayofyear).mean().plot(color='grey')\n",
    "fwx_daily.WFM.groupby(fwx_daily.DateTime.dt.dayofyear).min().plot(color=col5)\n",
    "fwx_daily.WFM.groupby(fwx_daily.DateTime.dt.dayofyear).max().plot(color=col1)\n",
    "plt.grid()\n",
    "ax.set_xlabel(\"Day of Year\")\n",
    "ax.set_ylabel(\"Live Woody Fuel Moisture (% dry wt)\")\n",
    "ax.set_title(\"Blue Mountain RAWS (241513) (2001-2020)\")"
   ]
  },
  {
   "cell_type": "code",
   "execution_count": null,
   "id": "baa7a390",
   "metadata": {},
   "outputs": [],
   "source": [
    "fwx_daily['Prcp'].groupby(fwx_daily.DateTime.dt.dayofyear).mean().plot()"
   ]
  },
  {
   "cell_type": "code",
   "execution_count": null,
   "id": "53a0ec59",
   "metadata": {},
   "outputs": [],
   "source": [
    "# Compute the rolling 45 day sum of precipitation\n",
    "fwx_daily['Prcp_RT'] = fwx_daily['Prcp'].rolling(45).sum()"
   ]
  },
  {
   "cell_type": "code",
   "execution_count": null,
   "id": "3380fd01",
   "metadata": {},
   "outputs": [],
   "source": [
    "ax = fwx_daily['Prcp_RT'].plot()\n",
    "fwx_daily['Prcp'].plot(ax=ax)"
   ]
  },
  {
   "cell_type": "code",
   "execution_count": null,
   "id": "8032b774",
   "metadata": {},
   "outputs": [],
   "source": [
    "f,ax = plt.subplots()\n",
    "fwx_daily.Prcp_RT.groupby(fwx_daily.DateTime.dt.dayofyear).mean().plot(color='grey')\n",
    "fwx_daily.Prcp_RT.groupby(fwx_daily.DateTime.dt.dayofyear).min().plot(color=col5)\n",
    "fwx_daily.Prcp_RT.groupby(fwx_daily.DateTime.dt.dayofyear).max().plot(color=col1)\n",
    "plt.grid()\n",
    "ax.set_xlabel(\"Day of Year\")\n",
    "ax.set_ylabel(\"45 day Running Total Precipitation (inches)\")\n",
    "ax.set_title(\"Blue Mountain RAWS (241513) (2005-2020)\")"
   ]
  },
  {
   "cell_type": "code",
   "execution_count": null,
   "id": "d2470fb4",
   "metadata": {},
   "outputs": [],
   "source": [
    "# The 'Pythonic' way of doing the above\n",
    "PrcpRTLow = 0.5\n",
    "PrcpRTUp = 1.5\n",
    "fwx_daily['PrcpInd'] = fwx_daily.apply(lambda row: Ind(row['Prcp_RT'],PrcpRTLow,PrcpRTUp),axis=1)"
   ]
  },
  {
   "cell_type": "code",
   "execution_count": null,
   "id": "3eec97d8",
   "metadata": {},
   "outputs": [],
   "source": [
    "f,ax = plt.subplots()\n",
    "fwx_daily.PrcpInd.groupby(fwx_daily.DateTime.dt.dayofyear).mean().plot(color='grey')\n",
    "fwx_daily.PrcpInd.groupby(fwx_daily.DateTime.dt.dayofyear).min().plot(color=col5)\n",
    "fwx_daily.PrcpInd.groupby(fwx_daily.DateTime.dt.dayofyear).max().plot(color=col1)\n",
    "plt.grid()\n",
    "ax.set_xlabel(\"Day of Year\")\n",
    "ax.set_xlim([1,365])\n",
    "ax.set_ylabel(\"30 day Running Total Precipitation (inches)\")\n",
    "ax.set_title(\"Blue Mountain RAWS (241513) (2005-2020)\")"
   ]
  },
  {
   "cell_type": "code",
   "execution_count": null,
   "id": "7fb0b0df",
   "metadata": {},
   "outputs": [],
   "source": [
    "# PE means Precip-enhanced\n",
    "fwx_daily['iGSIPE'] = fwx_daily['TminInd'] * fwx_daily['DaylInd']* fwx_daily['PrcpInd'] * fwx_daily['VPDInd']"
   ]
  },
  {
   "cell_type": "code",
   "execution_count": null,
   "id": "bec84a5d",
   "metadata": {},
   "outputs": [],
   "source": [
    "fwx_daily['iGSIPE'].plot()"
   ]
  },
  {
   "cell_type": "code",
   "execution_count": null,
   "id": "7006a3eb",
   "metadata": {},
   "outputs": [],
   "source": [
    "fwx_daily['GSIPE'] = fwx_daily['iGSIPE'].rolling(21).mean()\n",
    "fwx_daily['GSIPE_RS'] = fwx_daily['GSIPE'] / fwx_daily['GSIPE'].quantile(0.999)"
   ]
  },
  {
   "cell_type": "code",
   "execution_count": null,
   "id": "cf7ee5cd",
   "metadata": {},
   "outputs": [],
   "source": [
    "f,ax = plt.subplots()\n",
    "fwx_daily.GSIPE_RS.groupby(fwx_daily.DateTime.dt.dayofyear).mean().plot(color='grey')\n",
    "fwx_daily.GSIPE_RS.groupby(fwx_daily.DateTime.dt.dayofyear).min().plot(color=col5)\n",
    "fwx_daily.GSIPE_RS.groupby(fwx_daily.DateTime.dt.dayofyear).max().plot(color=col1)\n",
    "plt.grid()\n",
    "ax.set_xlabel(\"Day of Year\")\n",
    "ax.set_ylabel(\"Rescaled Precip-Enhanced Growing Season Index (21 day smoother) (0 to 1)\")\n",
    "ax.set_title(\"Blue Mountain RAWS (241513) (2001-2020)\")"
   ]
  },
  {
   "cell_type": "code",
   "execution_count": null,
   "id": "03fa984a",
   "metadata": {},
   "outputs": [],
   "source": [
    "GUThresh = 0.5\n",
    "LFMMax = 200\n",
    "LFMMin = 60\n",
    "\n",
    "m = (LFMMax - LFMMin) / (1 - GUThresh)\n",
    "b = LFMMax - m\n",
    "\n",
    "LFMWood = []\n",
    "for index, row in fwx_daily.iterrows():\n",
    "    # If equal to or above the Green-up Threshold, scale between min and max\n",
    "    if(row.GSIPE_RS >= GUThresh):\n",
    "        LW = m*row.GSIPE_RS + b\n",
    "    # Below the Green-up Threshold, set the value to minimum LFM\n",
    "    else:\n",
    "        LW = LFMMin\n",
    "    LFMWood.append(LW)\n",
    "fwx_daily['WFMPE'] = LFMWood"
   ]
  },
  {
   "cell_type": "code",
   "execution_count": null,
   "id": "6e2558d4",
   "metadata": {},
   "outputs": [],
   "source": [
    "fwx_daily"
   ]
  },
  {
   "cell_type": "code",
   "execution_count": null,
   "id": "67c353be",
   "metadata": {},
   "outputs": [],
   "source": [
    "fwx_daily['WFMPE'].plot()"
   ]
  },
  {
   "cell_type": "code",
   "execution_count": null,
   "id": "512cfcd5",
   "metadata": {},
   "outputs": [],
   "source": [
    "f,ax = plt.subplots()\n",
    "fwx_daily.WFMPE.groupby(fwx_daily.DateTime.dt.dayofyear).mean().plot(color='grey')\n",
    "fwx_daily.WFMPE.groupby(fwx_daily.DateTime.dt.dayofyear).min().plot(color=col5)\n",
    "fwx_daily.WFMPE.groupby(fwx_daily.DateTime.dt.dayofyear).max().plot(color=col1)\n",
    "plt.grid()\n",
    "ax.set_xlabel(\"Day of Year\")\n",
    "ax.set_ylabel(\"Woody Fuel Moisture from Precip-Enhanced GSI\")\n",
    "ax.set_title(\"Blue Mountain RAWS (241513) (2001-2020)\")"
   ]
  },
  {
   "cell_type": "markdown",
   "id": "931e51bb",
   "metadata": {},
   "source": [
    "# NFDRS V4 Master Class Discussion Topics for FY23\n",
    "\n",
    "## Dump data for better / easier analytics\n",
    "\n",
    "## Grid Search optimization for GSI-LFM (***)\n",
    "### Compared to LFM observations\n",
    "\n",
    "## Nelson Model Exploration \n",
    "\n",
    "## Fuel Model Explorations\n",
    "\n",
    "## Analytics to show relationships between index percentiles and fire occurrence\n"
   ]
  },
  {
   "cell_type": "markdown",
   "id": "75e130bd",
   "metadata": {},
   "source": [
    "# 03 Nov 2022\n",
    "## How NFDRS Indices are Calculated"
   ]
  },
  {
   "cell_type": "markdown",
   "id": "ae830663",
   "metadata": {},
   "source": [
    "NFDRS Equation Publication<br>\n",
    "https://www.fs.usda.gov/psw/publications/documents/psw_gtr082/psw_gtr082.pdf\n",
    "\n",
    "https://www.fs.usda.gov/rm/pubs_int/int_gtr169.pdf"
   ]
  },
  {
   "cell_type": "code",
   "execution_count": 1,
   "id": "1c6803b9",
   "metadata": {},
   "outputs": [],
   "source": [
    "from NFDRSV4Calc import *"
   ]
  },
  {
   "cell_type": "markdown",
   "id": "f09acfa0",
   "metadata": {},
   "source": [
    "## First create an instance of the fuel model class for fuel model Y"
   ]
  },
  {
   "cell_type": "code",
   "execution_count": 2,
   "id": "6cc53317",
   "metadata": {},
   "outputs": [],
   "source": [
    "latitude = 46.0\n",
    "fuelmodel = \"Y\"\n",
    "fm  = USNFDRSFuelModel(fuelmodel)"
   ]
  },
  {
   "cell_type": "markdown",
   "id": "7a006b01",
   "metadata": {},
   "source": [
    "## Next create an instance of the fuel moisture class.  "
   ]
  },
  {
   "cell_type": "code",
   "execution_count": 18,
   "id": "634f9aa5",
   "metadata": {},
   "outputs": [],
   "source": [
    "mc = FuelMoisture"
   ]
  },
  {
   "cell_type": "code",
   "execution_count": 19,
   "id": "e508c7f7",
   "metadata": {},
   "outputs": [
    {
     "data": {
      "text/plain": [
       "60"
      ]
     },
     "execution_count": 19,
     "metadata": {},
     "output_type": "execute_result"
    }
   ],
   "source": [
    "mc.MCHERB"
   ]
  },
  {
   "cell_type": "code",
   "execution_count": 20,
   "id": "373ec8a4",
   "metadata": {},
   "outputs": [
    {
     "data": {
      "text/plain": [
       "34"
      ]
     },
     "execution_count": 20,
     "metadata": {},
     "output_type": "execute_result"
    }
   ],
   "source": [
    "mc.MC1000"
   ]
  },
  {
   "cell_type": "code",
   "execution_count": 5,
   "id": "4088bceb",
   "metadata": {},
   "outputs": [],
   "source": [
    "#def iCalcIndexes (FM,MC,iWS, iSlopeCls,fGSI, KBDI,FuelTemperature)\n",
    "# FM: Fuel Model instance\n",
    "# MC: Moisture Content instance\n",
    "# WIndspeed\n",
    "# Slope Class\n",
    "# Fractional GSI for curing\n",
    "# KBDI\n",
    "# Fuel Temperature (in Celcius)"
   ]
  },
  {
   "cell_type": "code",
   "execution_count": 6,
   "id": "7bdc8896",
   "metadata": {},
   "outputs": [],
   "source": [
    "mc.MC1000 = 7"
   ]
  },
  {
   "cell_type": "code",
   "execution_count": 16,
   "id": "4dda0702",
   "metadata": {},
   "outputs": [
    {
     "data": {
      "text/plain": [
       "[11.16, 4.8, 18.79, 62.03]"
      ]
     },
     "execution_count": 16,
     "metadata": {},
     "output_type": "execute_result"
    }
   ],
   "source": [
    "iCalcIndexes(fm,mc,10,1,1,450,25)"
   ]
  },
  {
   "cell_type": "code",
   "execution_count": 9,
   "id": "2c022eee",
   "metadata": {},
   "outputs": [],
   "source": [
    "#return ([round(ERC,2),round(SC,2),round(BI,2),round(IC,2)])"
   ]
  },
  {
   "cell_type": "markdown",
   "id": "0533ff15",
   "metadata": {},
   "source": [
    "BI = SC * ERC * (constants)"
   ]
  },
  {
   "cell_type": "code",
   "execution_count": 10,
   "id": "2b808795",
   "metadata": {},
   "outputs": [],
   "source": [
    "# Test the sensitivty of ERC to FM1000\n",
    "erc = []\n",
    "testfm = []\n",
    "for MC1000 in range(3,35):\n",
    "    mc.MC1000 = MC1000\n",
    "    res = iCalcIndexes(fm,mc,10,1,1,450,25)\n",
    "    erc.append(res[0])\n",
    "    testfm.append(MC1000)\n"
   ]
  },
  {
   "cell_type": "code",
   "execution_count": 13,
   "id": "3df2adf7",
   "metadata": {},
   "outputs": [
    {
     "data": {
      "image/png": "[encoded data removed]",
      "text/plain": [
       "<Figure size 432x288 with 1 Axes>"
      ]
     },
     "metadata": {
      "needs_background": "light"
     },
     "output_type": "display_data"
    }
   ],
   "source": [
    "f,ax = plt.subplots()\n",
    "plt.plot(testfm,erc)\n",
    "ax.set_xlabel(\"Fuel Moisture (% dry wt)\")\n",
    "my_label = f'Energy Release Component - Fuel Model {fuelmodel}'\n",
    "ax.set_ylabel(my_label)\n",
    "plt.grid()"
   ]
  },
  {
   "cell_type": "code",
   "execution_count": 23,
   "id": "67c81535",
   "metadata": {},
   "outputs": [],
   "source": [
    "# Test the sensitivty of ERC to FM1000\n",
    "erc = []\n",
    "testval = []\n",
    "mc.MC1000 = 7\n",
    "for KBDI in range(0,800):\n",
    "    res = iCalcIndexes(fm,mc,10,1,1,KBDI,25)\n",
    "    erc.append(res[0])\n",
    "    testval.append(KBDI)"
   ]
  },
  {
   "cell_type": "code",
   "execution_count": 24,
   "id": "a1e4a193",
   "metadata": {},
   "outputs": [
    {
     "data": {
      "image/png": "[encoded data removed]",
      "text/plain": [
       "<Figure size 432x288 with 1 Axes>"
      ]
     },
     "metadata": {
      "needs_background": "light"
     },
     "output_type": "display_data"
    }
   ],
   "source": [
    "f,ax = plt.subplots()\n",
    "plt.plot(testval,erc)\n",
    "ax.set_xlabel(\"Keetch-Byram Drought Index\")\n",
    "my_label = f'Energy Release Component - Fuel Model {fuelmodel}'\n",
    "ax.set_ylabel(my_label)\n",
    "plt.grid()"
   ]
  },
  {
   "cell_type": "code",
   "execution_count": 17,
   "id": "e59d04cb",
   "metadata": {},
   "outputs": [],
   "source": [
    "del mc"
   ]
  },
  {
   "cell_type": "code",
   "execution_count": null,
   "id": "898f84d1",
   "metadata": {},
   "outputs": [],
   "source": [
    "fm.DROUGHT "
   ]
  },
  {
   "cell_type": "code",
   "execution_count": null,
   "id": "0f781ab6",
   "metadata": {},
   "outputs": [],
   "source": []
  }
 ],
 "metadata": {
  "kernelspec": {
   "display_name": "Python 3 (ipykernel)",
   "language": "python",
   "name": "python3"
  },
  "language_info": {
   "codemirror_mode": {
    "name": "ipython",
    "version": 3
   },
   "file_extension": ".py",
   "mimetype": "text/x-python",
   "name": "python",
   "nbconvert_exporter": "python",
   "pygments_lexer": "ipython3",
   "version": "3.9.11"
  }
 },
 "nbformat": 4,
 "nbformat_minor": 5
}
